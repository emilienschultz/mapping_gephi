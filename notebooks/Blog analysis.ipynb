{
 "cells": [
  {
   "cell_type": "markdown",
   "metadata": {},
   "source": [
    "# Analyse the Gephi blog\n",
    "\n",
    "https://gephi.wordpress.com/tag/python/"
   ]
  },
  {
   "cell_type": "code",
   "execution_count": 2,
   "metadata": {},
   "outputs": [],
   "source": [
    "import bs4\n",
    "import pandas as pd"
   ]
  },
  {
   "cell_type": "markdown",
   "metadata": {},
   "source": [
    "Data are manually downloaded as a html file"
   ]
  },
  {
   "cell_type": "code",
   "execution_count": null,
   "metadata": {},
   "outputs": [],
   "source": [
    "blog = bs4.BeautifulSoup(open(\"./Data/gephi_blog_11072024.html\",\"r\"))\n",
    "posts = blog.find_all(\"article\")"
   ]
  },
  {
   "cell_type": "markdown",
   "metadata": {},
   "source": [
    "### Craft extract function"
   ]
  },
  {
   "cell_type": "code",
   "execution_count": null,
   "metadata": {},
   "outputs": [
    {
     "data": {
      "text/plain": [
       "('2021-07-19T15:10:55+01:00',\n",
       " 'Gephi road map, Summer\\xa02021',\n",
       " '\\nThis road map states, in short, Gephi’s priorities, long-term and short-term goals, challenges in various areas, and way to go.\\nProject vision\\nGephi is multiplatform, open source, installable, extensible by the community, and with local-based files.\\nGephi is an opinionated take on network analysis, and is not intended to be the only network analysis tool. Its focus is visual interaction, and a scalable workflow from 10 to 10,000,000 nodes (assuming enough computing power). Its core features are visualizing, filtering networks, and computing statistics. Gephi is exploration-oriented: visualize primarily for yourself, secondarily for others. More info on the community of Gephi users in this post.\\nPriorities\\nSustainability. Notably maintenance: Gephi needs to work before anything else. This includes: being easy to install (including Java) on all platforms, having the UI work in various screen resolutions and sizes, stability, fix major bugs, and have a sufficiently clear and documented codebase that multiple developers can understand it and contribute.Version 1.0, i.e. current Gephi with a consolidated set of features. We want to release a coherent version of today’s Gephi before discussing new directions to explore.Stabilizing core contributors. This entails institutional support, fundraising, and discussing governance.Other. Community tools and online presence (forum, website…). Plugins. Web integration (Gephi JS). Evolution of Gephi. Documentation, tutorials and teaching material. Dev community (code examples). Keeping Gephi state-of-the-art over the long term.\\nProject road map\\nUntil Winter 2021: Gephi dev campaign.\\nGoal: enrol new developers in the project.\\nFall 2021: Gephi codebase sustainability retreat.\\nGoal: train new Gephi developers, iterate over the technical road map to Gephi 1.0 and discuss its implementation. Set concrete sustainability goals for 2022.\\nWe will invite ~5 developers for a 1-week code retreat in Copenhagen, compensation 100€/day.\\n2022: Fundraising for Gephi v1.0\\nGoal: explore opportunities, small (Google Summer of Code, Outreachy) and big (institutional funding, crowdfunding).\\n2022: Reach Gephi’s sustainability goals\\nGoal: make Gephi sustainable again.\\nFall 2022: Gephi codebase sustainability retreat, 2nd edition\\nGoal: train new Gephi developers and iterate over the technical road map to Gephi 1.0\\n2022-2023: prepare and release Gephi V1.0\\nGoal: get through Gephi’s technical road map to version 1.0, with the help of the newly trained developers, and the funding. Release Gephi 1.0.\\n2023: Gephi 1.0 workshop\\nGoal: celebrate the release of Gephi 1.0. Recruit new contributors. Iterate over the road map. Prepare the future.\\nTechnical road map to Gephi 1.0\\nThis technical road map was largely established in 2018, more on that in this post. Additionally, design guidelines presented in that post.\\nUNDO feature, limited to the “GEXF scope”: network data, metadata, positions, sizes, colors…Default save to GEXF. More stable than “.gephi” though it does not save the state of the user interface.Activity log, possibly coordinated to undo, possibly stored in the GEXF. A plugin is already exploring that direction.Parallel edges. The GraphStore supports it but not the rest of Gephi.New OpenGL engine. Eduardo already prototyped it. It is better but also solves maintenance issues.Curved edges in visual exploration. These are important because they help identifying edge orientation.Quick search in nodes and metadata. It turns out it should be pretty easy to implement.New icons. Many resources are now available to do better and the technical part is trivial.Cleaner data laboratoryUpdate to the latest Netbeans PlatformEmbed Java: no more hassle with installing the right Java version.Install from MacStore. Easier for Mac users.Fix filter composition.Revamp appearance (label color & size, sliders). For instance incentivize rankings as opposed to default unitary mode.GDPR compliance (bug reports contain PII at the moment)Logging (much more logs to facilitate debugging from crash reports)Instrumentation (opt-in statistics about feature usage and crashes)Unit testing (Gephi codebase has 0 unit tests, only Graphstore. Cover the basics like .gephi i/o, filters…)Better statistics reports in HTML5.Label anchor (start, middle, end)… and possibly some jitter.Better label adjust (one that works better). Possibly with label jitter.\\n')"
      ]
     },
     "execution_count": 15,
     "metadata": {},
     "output_type": "execute_result"
    }
   ],
   "source": [
    "def extract(post):\n",
    "    date = post.find(\"time\")[\"datetime\"]\n",
    "    title = post.find(\"h1\",{\"class\":\"entry-title\"}).text\n",
    "    content = post.find(\"div\",{\"class\":\"entry-content\"}).text\n",
    "    return (date, title, content)\n",
    "\n",
    "extract(posts[10])"
   ]
  },
  {
   "cell_type": "markdown",
   "metadata": {},
   "source": [
    "### Build corpus"
   ]
  },
  {
   "cell_type": "code",
   "execution_count": null,
   "metadata": {},
   "outputs": [],
   "source": [
    "corpus = pd.DataFrame([extract(p) for p in posts], columns=[\"date\", \"title\", \"content\"])\n",
    "corpus[\"date\"] = pd.to_datetime(corpus[\"date\"])\n",
    "corpus.shape"
   ]
  },
  {
   "cell_type": "markdown",
   "metadata": {},
   "source": [
    "## Analytics"
   ]
  },
  {
   "cell_type": "code",
   "execution_count": null,
   "metadata": {},
   "outputs": [
    {
     "data": {
      "text/plain": [
       "<Axes: xlabel='date'>"
      ]
     },
     "execution_count": 28,
     "metadata": {},
     "output_type": "execute_result"
    },
    {
     "data": {
      "image/png": "[encoded data removed]",
      "text/plain": [
       "<Figure size 800x200 with 1 Axes>"
      ]
     },
     "metadata": {},
     "output_type": "display_data"
    }
   ],
   "source": [
    "corpus.set_index(\"date\").resample(\"m\")[\"content\"].count().plot(figsize=(8,2))"
   ]
  },
  {
   "cell_type": "markdown",
   "metadata": {},
   "source": [
    "## Who are the person mentionned in the blog ?"
   ]
  },
  {
   "cell_type": "code",
   "execution_count": null,
   "metadata": {},
   "outputs": [
    {
     "data": {
      "application/vnd.jupyter.widget-view+json": {
       "model_id": "23bd5bfd731e420e87c575f884e0b5a9",
       "version_major": 2,
       "version_minor": 0
      },
      "text/plain": [
       "pytorch_model.bin:   0%|          | 0.00/1.78G [00:00<?, ?B/s]"
      ]
     },
     "metadata": {},
     "output_type": "display_data"
    },
    {
     "data": {
      "application/vnd.jupyter.widget-view+json": {
       "model_id": "4115c72396384ffd8c14c98f92809f11",
       "version_major": 2,
       "version_minor": 0
      },
      "text/plain": [
       "gliner_config.json:   0%|          | 0.00/477 [00:00<?, ?B/s]"
      ]
     },
     "metadata": {},
     "output_type": "display_data"
    },
    {
     "data": {
      "application/vnd.jupyter.widget-view+json": {
       "model_id": "821d256af6364f2da54e1da46acb9f6c",
       "version_major": 2,
       "version_minor": 0
      },
      "text/plain": [
       "tokenizer_config.json:   0%|          | 0.00/52.0 [00:00<?, ?B/s]"
      ]
     },
     "metadata": {},
     "output_type": "display_data"
    },
    {
     "data": {
      "application/vnd.jupyter.widget-view+json": {
       "model_id": "1730d89c3f504d9b820f007a8b049f29",
       "version_major": 2,
       "version_minor": 0
      },
      "text/plain": [
       "config.json:   0%|          | 0.00/580 [00:00<?, ?B/s]"
      ]
     },
     "metadata": {},
     "output_type": "display_data"
    },
    {
     "data": {
      "application/vnd.jupyter.widget-view+json": {
       "model_id": "9334004795c54ee5a7fb42d81a9c9c10",
       "version_major": 2,
       "version_minor": 0
      },
      "text/plain": [
       "spm.model:   0%|          | 0.00/2.46M [00:00<?, ?B/s]"
      ]
     },
     "metadata": {},
     "output_type": "display_data"
    },
    {
     "name": "stderr",
     "output_type": "stream",
     "text": [
      "/opt/anaconda3/lib/python3.11/site-packages/transformers/convert_slow_tokenizer.py:560: UserWarning: The sentencepiece tokenizer that you are converting to a fast tokenizer uses the byte fallback option which is not implemented in the fast tokenizers. In practice this means that the fast version of the tokenizer can produce unknown tokens whereas the sentencepiece version would have converted these unknown tokens into a sequence of byte tokens matching the original piece of text.\n",
      "  warnings.warn(\n"
     ]
    },
    {
     "data": {
      "application/vnd.jupyter.widget-view+json": {
       "model_id": "4dff17e9f44244ff9915bd9386ef92bd",
       "version_major": 2,
       "version_minor": 0
      },
      "text/plain": [
       "pytorch_model.bin:   0%|          | 0.00/874M [00:00<?, ?B/s]"
      ]
     },
     "metadata": {},
     "output_type": "display_data"
    },
    {
     "name": "stdout",
     "output_type": "stream",
     "text": [
      "Cristiano Ronaldo => Person\n",
      "5 February 1985 => Date\n",
      "Portugal national team => Teams\n",
      "Ronaldo => Person\n",
      "Ballon d'Or awards => Award\n",
      "UEFA Men's Player of the Year Awards => Award\n",
      "European Golden Shoes => Award\n",
      "UEFA Champions Leagues => Competitions\n",
      "UEFA European Championship => Competitions\n",
      "UEFA Nations League => Competitions\n",
      "Ronaldo => Person\n"
     ]
    }
   ],
   "source": [
    "from gliner import GLiNER\n",
    "\n",
    "model = GLiNER.from_pretrained(\"urchade/gliner_large-v2.1\")"
   ]
  },
  {
   "cell_type": "code",
   "execution_count": null,
   "metadata": {},
   "outputs": [
    {
     "name": "stderr",
     "output_type": "stream",
     "text": [
      "/opt/anaconda3/lib/python3.11/site-packages/gliner/modules/base.py:33: UserWarning: Sentence of length 862 has been truncated to 384\n",
      "  warnings.warn(f\"Sentence of length {len(tokens)} has been truncated to {max_len}\")\n"
     ]
    },
    {
     "data": {
      "text/plain": [
       "[{'start': 1955,\n",
       "  'end': 1965,\n",
       "  'text': 'Copenhagen',\n",
       "  'label': 'Locations',\n",
       "  'score': 0.8013158440589905}]"
      ]
     },
     "execution_count": 78,
     "metadata": {},
     "output_type": "execute_result"
    }
   ],
   "source": [
    "model.predict_entities(corpus[\"content\"].iloc[10], labels=[\"Locations\"])"
   ]
  },
  {
   "cell_type": "code",
   "execution_count": null,
   "metadata": {},
   "outputs": [],
   "source": [
    "labels = [\"People\",\"Sotfware\"]\n",
    "t = corpus[0:10][\"content\"].apply(lambda x : model.predict_entities(x, labels, threshold=0.5))"
   ]
  },
  {
   "cell_type": "code",
   "execution_count": null,
   "metadata": {},
   "outputs": [],
   "source": [
    "def split_text(text, chunck=300):\n",
    "    chuncks = [text[i:i + chunck] for i in range(0, len(text), chunck)]\n",
    "    return chuncks\n",
    "\n",
    "def get_elements(text, labels):\n",
    "    temp = [model.predict_entities(t, labels, threshold=0.5) for t in split_text(text)]\n",
    "    temp = [[j[\"text\"].lower(),j[\"label\"].lower()] for i in temp for j in i]\n",
    "    dic = {}\n",
    "    for i in temp:\n",
    "        if not i[1] in dic:\n",
    "            dic[i[1]]=[i[0]]\n",
    "        else:\n",
    "            if not i[0] in dic[i[1]]:\n",
    "                dic[i[1]].append(i[0])\n",
    "    return dic"
   ]
  },
  {
   "cell_type": "code",
   "execution_count": null,
   "metadata": {},
   "outputs": [
    {
     "data": {
      "text/plain": [
       "{'sotfware': ['gephi',\n",
       "  'cytoscape',\n",
       "  'nodexl',\n",
       "  'graphext',\n",
       "  'gephi app',\n",
       "  'olkit',\n",
       "  'plugin',\n",
       "  'apache netbeans platform',\n",
       "  'netbeans ide'],\n",
       " 'surname': ['author',\n",
       "  'mathieu jacomy',\n",
       "  'eliver',\n",
       "  'f',\n",
       "  'bastian',\n",
       "  'heymann',\n",
       "  'jacomy',\n",
       "  'ou',\n",
       "  'eded',\n",
       "  'gin',\n",
       "  'levallois']}"
      ]
     },
     "execution_count": 89,
     "metadata": {},
     "output_type": "execute_result"
    }
   ],
   "source": [
    "labels = [\"Surname\",\"Sotfware\"]\n",
    "\n",
    "get_elements(corpus[\"content\"].iloc[0], labels)"
   ]
  },
  {
   "cell_type": "markdown",
   "metadata": {},
   "source": [
    "### Use Llama3 with Ollama"
   ]
  },
  {
   "cell_type": "code",
   "execution_count": 149,
   "metadata": {},
   "outputs": [],
   "source": [
    "import requests\n",
    "import json\n",
    "\n",
    "def split_text(text, chunck=300):\n",
    "    chuncks = [text[i:i + chunck] for i in range(0, len(text), chunck)]\n",
    "    return chuncks\n",
    "\n",
    "def create_prompt(text):\n",
    "    prompt = f\"\"\"You are a research assistant. I will give you a text, and I want you to list all the people with explicit names in it.\n",
    "    Please return the result as a python list. Only return the result, add no other element. If there is no name, return an empty list []\n",
    "\n",
    "    The text is the following. Find the names in it:\n",
    "\n",
    "    {text}\n",
    "\n",
    "    \"\"\"\n",
    "    return prompt\n",
    "\n",
    "def request_llm(prompt):\n",
    "    url = \"http://0.0.0.0:11434/api/generate\"\n",
    "    headers = {\"Content-Type\":\"application/json\"} \n",
    "    data = {\"model\":\"llama3\", #\"llama3\" for the 8B,  \"llama3:70b\" for the 70b?\n",
    "    \"prompt\":prompt,\n",
    "    \"stream\":False}\n",
    "    response = requests.post(url, headers=headers, data=json.dumps(data))\n",
    "    return json.loads(response.content)[\"response\"]\n",
    "\n",
    "results = []\n",
    "c = 0\n",
    "for text in corpus[\"content\"]:\n",
    "    results.append([request_llm(create_prompt(t)) for t in split_text(text, 3000)])\n",
    "    c+=1"
   ]
  },
  {
   "cell_type": "markdown",
   "metadata": {},
   "source": [
    "The format is not very stable with llama3. Work around : extract the element of the list"
   ]
  },
  {
   "cell_type": "code",
   "execution_count": 152,
   "metadata": {},
   "outputs": [],
   "source": [
    "import re\n",
    "def extract_names(text):\n",
    "    return re.findall(\"'(.*?)'\", text)\n",
    "t = [extract_names(\"-\".join(i)) for i in results]\n",
    "\n",
    "corpus[\"name_extraction\"] = t\n",
    "corpus.to_csv(\"blog_modified.csv\")"
   ]
  },
  {
   "cell_type": "markdown",
   "metadata": {},
   "source": [
    "### Analysis"
   ]
  },
  {
   "cell_type": "code",
   "execution_count": 14,
   "metadata": {},
   "outputs": [],
   "source": [
    "import pandas as pd\n",
    "import networkx as nx\n",
    "corpus = pd.read_csv(\"blog_modified.csv\")\n",
    "corpus[\"date\"] = pd.to_datetime(corpus[\"date\"])"
   ]
  },
  {
   "cell_type": "markdown",
   "metadata": {},
   "source": [
    "Manual cleaning of the names :\n",
    "\n",
    "- polysemia\n",
    "- removing generic First names & artefacts"
   ]
  },
  {
   "cell_type": "code",
   "execution_count": 54,
   "metadata": {},
   "outputs": [],
   "source": [
    "# Get the distribution of elements\n",
    "#pd.Series([j for i in t for j in i]).value_counts().to_csv(\"Names_to_reco.csv\")\n",
    "\n",
    "names = pd.read_csv(\"./Names_cleaned.csv\")\n",
    "names[\"reco\"] = names[\"Unnamed: 0\"].replace(dict(names.set_index(\"Unnamed: 0\")[\"reco\"].dropna()))\n",
    "names.columns = [\"name\", \"count\", \"reco\"]\n",
    "f = ~ names[\"name\"].str.contains(\"\\.\")\n",
    "names = dict(names[f].set_index(\"name\")[\"reco\"])\n"
   ]
  },
  {
   "cell_type": "markdown",
   "metadata": {},
   "source": [
    "Build a network per blog post"
   ]
  },
  {
   "cell_type": "code",
   "execution_count": 55,
   "metadata": {},
   "outputs": [
    {
     "name": "stdout",
     "output_type": "stream",
     "text": [
      "Graph with 114 nodes and 529 edges\n"
     ]
    }
   ],
   "source": [
    "import networkx as nx\n",
    "from itertools import combinations\n",
    "\n",
    "def is_name(text, names=names):\n",
    "    return list(set([names[i] for i in names if i in text]))\n",
    "\n",
    "reseau = nx.Graph()\n",
    "\n",
    "for i, post in corpus.sort_values(\"date\").iterrows():\n",
    "    actors  = is_name(post[\"content\"], names)\n",
    "    for a in actors:\n",
    "        if not reseau.has_node(a):\n",
    "            reseau.add_node(a, weight=0, year = float(post[\"date\"].year))\n",
    "        reseau.nodes[a][\"weight\"]+=1\n",
    "    for a,b in combinations(actors,2):\n",
    "        if not reseau.has_edge(a,b):\n",
    "            reseau.add_edge(a,b,weight=0)\n",
    "        reseau.edges[a,b][\"weight\"]+=1\n",
    "    \n",
    "print(reseau)"
   ]
  },
  {
   "cell_type": "code",
   "execution_count": 57,
   "metadata": {},
   "outputs": [
    {
     "data": {
      "application/vnd.jupyter.widget-view+json": {
       "model_id": "d9c9a3de04a1473cac8c8cfcf8d3512a",
       "version_major": 2,
       "version_minor": 0
      },
      "text/plain": [
       "Sigma(nx.Graph with 114 nodes and 529 edges)"
      ]
     },
     "execution_count": 57,
     "metadata": {},
     "output_type": "execute_result"
    }
   ],
   "source": [
    "from ipysigma import Sigma\n",
    "Sigma(reseau, node_size=\"weight\", node_color=\"year\", node_color_gradient='Viridis')"
   ]
  }
 ],
 "metadata": {
  "kernelspec": {
   "display_name": "base",
   "language": "python",
   "name": "python3"
  },
  "language_info": {
   "codemirror_mode": {
    "name": "ipython",
    "version": 3
   },
   "file_extension": ".py",
   "mimetype": "text/x-python",
   "name": "python",
   "nbconvert_exporter": "python",
   "pygments_lexer": "ipython3",
   "version": "3.11.7"
  }
 },
 "nbformat": 4,
 "nbformat_minor": 2
}
