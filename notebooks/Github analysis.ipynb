{
 "cells": [
  {
   "cell_type": "markdown",
   "metadata": {},
   "source": [
    "# Analyse of Gephi presence on Github"
   ]
  },
  {
   "cell_type": "code",
   "execution_count": 55,
   "metadata": {},
   "outputs": [],
   "source": [
    "import pickle\n",
    "import pandas as pd\n",
    "import networkx as nx\n",
    "from itertools import combinations\n",
    "import matplotlib.pyplot as plt\n"
   ]
  },
  {
   "cell_type": "markdown",
   "metadata": {},
   "source": [
    "## Collect data on github\n",
    "\n",
    "See the script of Lasse :\n",
    "\n",
    "https://github.com/watchforest/pygithub-search/blob/main/PyGithub%20Search%20and%20Retrieve.ipynb"
   ]
  },
  {
   "cell_type": "code",
   "execution_count": 123,
   "metadata": {},
   "outputs": [
    {
     "data": {
      "text/plain": [
       "Index(['Unnamed: 0', 'id', 'fullname', 'name', 'owner', 'website', 'forks',\n",
       "       'createdAt', 'updatedAt', 'commits', 'topics', 'watchers', 'stargazers',\n",
       "       'contributors', 'readme'],\n",
       "      dtype='object')"
      ]
     },
     "execution_count": 123,
     "metadata": {},
     "output_type": "execute_result"
    }
   ],
   "source": [
    "df = pd.read_csv(\"./Data/gephi_repositories.csv\")\n",
    "print(df.shape)\n",
    "df[\"watchers\"] = df[\"watchers\"].apply(eval)\n",
    "df[\"stargazers\"] = df[\"stargazers\"].apply(eval)\n",
    "df[\"contributors\"] = df[\"contributors\"].apply(eval)\n",
    "df[\"commits\"] = df[\"commits\"].apply(eval)\n",
    "df[\"active\"] = (df[\"commits\"].apply(sum)>0)\n",
    "\n",
    "\n",
    "df.columns"
   ]
  },
  {
   "cell_type": "markdown",
   "metadata": {},
   "source": [
    "## Distributions"
   ]
  },
  {
   "cell_type": "code",
   "execution_count": 112,
   "metadata": {},
   "outputs": [
    {
     "data": {
      "image/png": "[encoded data removed]",
      "text/plain": [
       "<Figure size 800x300 with 2 Axes>"
      ]
     },
     "metadata": {},
     "output_type": "display_data"
    }
   ],
   "source": [
    "fig, ax = plt.subplots(1, 2, figsize=(8,3))\n",
    "df[\"contributors\"].apply(len).hist(bins=100, ax=ax[0])\n",
    "ax[0].set_title(\"Contributors\")\n",
    "ax[0].set_yscale('log')\n",
    "\n",
    "df[\"stargazers\"].apply(len).hist(bins=100, ax=ax[1])\n",
    "ax[1].set_title(\"Stars\")\n",
    "ax[1].set_yscale('log')"
   ]
  },
  {
   "cell_type": "markdown",
   "metadata": {},
   "source": [
    "## Build network of users/repository to visualize the community"
   ]
  },
  {
   "cell_type": "code",
   "execution_count": 116,
   "metadata": {},
   "outputs": [
    {
     "name": "stdout",
     "output_type": "stream",
     "text": [
      "Graph with 6369 nodes and 6455 edges\n"
     ]
    }
   ],
   "source": [
    "reseau = nx.Graph()\n",
    "\n",
    "individuals = \"watchers\"\n",
    "\n",
    "for i,row in df[df[\"active\"]==1].iterrows():\n",
    "    reseau.add_node(row[\"fullname\"], weight=len(row[individuals]), cat=\"repository\")\n",
    "    for w in row[individuals]:\n",
    "        if not reseau.has_node(w):\n",
    "            reseau.add_node(w, weight=0, cat=\"account\")\n",
    "        reseau.nodes[w][\"weight\"]+=1\n",
    "        reseau.add_edge(row[\"fullname\"], w, weight=1)\n",
    "    \n",
    "print(reseau)"
   ]
  },
  {
   "cell_type": "code",
   "execution_count": 102,
   "metadata": {},
   "outputs": [
    {
     "data": {
      "application/vnd.jupyter.widget-view+json": {
       "model_id": "fc716bffb12f4cc78c540fc0ad4017c9",
       "version_major": 2,
       "version_minor": 0
      },
      "text/plain": [
       "Sigma(nx.Graph with 6,369 nodes and 6,455 edges)"
      ]
     },
     "execution_count": 102,
     "metadata": {},
     "output_type": "execute_result"
    }
   ],
   "source": [
    "from ipysigma import Sigma\n",
    "\n",
    "nodes_to_keep = [n for n, attr in reseau.nodes(data=True) if attr.get('weight', 0) > 1]\n",
    "sub =  reseau.subgraph(nodes_to_keep).copy()\n",
    "Sigma(reseau, node_size=\"weight\", node_color=\"cat\")"
   ]
  }
 ],
 "metadata": {
  "kernelspec": {
   "display_name": "base",
   "language": "python",
   "name": "python3"
  },
  "language_info": {
   "codemirror_mode": {
    "name": "ipython",
    "version": 3
   },
   "file_extension": ".py",
   "mimetype": "text/x-python",
   "name": "python",
   "nbconvert_exporter": "python",
   "pygments_lexer": "ipython3",
   "version": "3.11.7"
  }
 },
 "nbformat": 4,
 "nbformat_minor": 2
}
